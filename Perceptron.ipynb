{
 "cells": [
  {
   "cell_type": "code",
   "execution_count": 3,
   "metadata": {},
   "outputs": [],
   "source": [
    "#Created By: Ali, Zeenat\n",
    "#Homework 2: CMSC 678 Spring 2020"
   ]
  },
  {
   "cell_type": "code",
   "execution_count": 4,
   "metadata": {},
   "outputs": [],
   "source": [
    "#Importing packages for data operations\n",
    "import numpy as np\n",
    "from itertools import repeat"
   ]
  },
  {
   "cell_type": "code",
   "execution_count": 5,
   "metadata": {},
   "outputs": [],
   "source": [
    "#Converting input data to numpy array format in DatasetX\n",
    "DatasetX = np.genfromtxt('mnist_data.csv', delimiter=' ')\n",
    "\n",
    "#Appending 1 at 0th position in DatasetX - this is the bias element\n",
    "DatasetX = np.insert(DatasetX, 0, 1, axis=1)\n",
    "\n",
    "#Converting label to numpy array format in LabelY\n",
    "LabelY = np.genfromtxt('label.csv', delimiter=' ')\n",
    "\n",
    "#Convert LabelY to list of int\n",
    "LabelY = [int(num) for num in LabelY]\n",
    "TrainingLabelY = LabelY[::2]\n",
    "TestLabelY = LabelY[1::2]\n",
    "\n",
    "#Defining weight vector - 10 in number (Weight[0] to Weight[9] of 785 elements each)\n",
    "Weight =  np.zeros((10, 785))\n",
    "\n",
    "#Splitting data into half for 50% training and 50% test data\n",
    "#All odd rows of DatasetX are taken as training data\n",
    "#All even rows of DatasetX are taken as test data\n",
    "TrainingData = DatasetX[::2]\n",
    "TestData = DatasetX[1::2]"
   ]
  },
  {
   "cell_type": "code",
   "execution_count": 464,
   "metadata": {},
   "outputs": [],
   "source": [
    "#PERCEPTRON ALGORITHM\n",
    "#For each row in Training data do:\n",
    "for k in repeat(None, 100): \n",
    "    for i in range(TrainingData.shape[0]):\n",
    "        #Take an empty list to store activation values for each row in Training data\n",
    "        ActivationList = []\n",
    "        #For each row in Weight do:\n",
    "        for j in range(Weight.shape[0]):\n",
    "            ActivationList.append(np.dot(TrainingData[i], Weight[j]))\n",
    "        #Return index of maximum value in Activation List\n",
    "        index_max = np.argmax(ActivationList)\n",
    "        #Compare index of maximum value with Label in LabelY\n",
    "        if(index_max != TrainingLabelY[i]):\n",
    "            #Decrease weight of non matching data instance with label\n",
    "            Weight[index_max] = Weight[index_max] - TrainingData[i]\n",
    "            #Increase weight of matching data instance with label\n",
    "            Weight[TrainingLabelY[i]] = Weight[TrainingLabelY[i]] + TrainingData[i]\n",
    "        "
   ]
  },
  {
   "cell_type": "code",
   "execution_count": 465,
   "metadata": {},
   "outputs": [
    {
     "data": {
      "text/plain": [
       "98.56"
      ]
     },
     "execution_count": 465,
     "metadata": {},
     "output_type": "execute_result"
    }
   ],
   "source": [
    "#Accuracy of training data\n",
    "TrainingResult = []\n",
    "#For each row in Training data do:\n",
    "for i in range(TrainingData.shape[0]):\n",
    "    #Take an empty list to store activation values for each row in Training data\n",
    "    ActivationList = []\n",
    "    #For each row in Weight do:\n",
    "    for j in range(Weight.shape[0]):\n",
    "        ActivationList.append(np.dot(TrainingData[i], Weight[j]))\n",
    "    #Return index of maximum value in Activation List\n",
    "    index_max = np.argmax(ActivationList)\n",
    "    #Subtract index of maximum value with Label in LabelY\n",
    "    TrainingResult.append(index_max - TrainingLabelY[i])\n",
    "TrainingAccuracy = ((5000-np.count_nonzero(TrainingResult))/5000)*100\n",
    "TrainingAccuracy"
   ]
  },
  {
   "cell_type": "code",
   "execution_count": 466,
   "metadata": {},
   "outputs": [
    {
     "data": {
      "text/plain": [
       "88.1"
      ]
     },
     "execution_count": 466,
     "metadata": {},
     "output_type": "execute_result"
    }
   ],
   "source": [
    "#Accuracy of test data\n",
    "TestResult = []\n",
    "#For each row in Training data do:\n",
    "for i in range(TestData.shape[0]):\n",
    "    #Take an empty list to store activation values for each row in Training data\n",
    "    ActivationList = []\n",
    "    #For each row in Weight do:\n",
    "    for j in range(Weight.shape[0]):\n",
    "        ActivationList.append(np.dot(TestData[i], Weight[j]))\n",
    "    #Return index of maximum value in Activation List\n",
    "    index_max = np.argmax(ActivationList)\n",
    "    #Subtract index of maximum value with Label in LabelY\n",
    "    TestResult.append(index_max - TestLabelY[i])\n",
    "TestAccuracy = ((5000-np.count_nonzero(TestResult))/5000)*100\n",
    "TestAccuracy"
   ]
  }
 ],
 "metadata": {
  "kernelspec": {
   "display_name": "Python 3",
   "language": "python",
   "name": "python3"
  },
  "language_info": {
   "codemirror_mode": {
    "name": "ipython",
    "version": 3
   },
   "file_extension": ".py",
   "mimetype": "text/x-python",
   "name": "python",
   "nbconvert_exporter": "python",
   "pygments_lexer": "ipython3",
   "version": "3.7.4"
  }
 },
 "nbformat": 4,
 "nbformat_minor": 2
}
